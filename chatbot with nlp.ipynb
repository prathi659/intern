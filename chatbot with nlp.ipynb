{
  "nbformat": 4,
  "nbformat_minor": 0,
  "metadata": {
    "colab": {
      "provenance": [],
      "authorship_tag": "ABX9TyOfCuKAhoqfnKyPlASoAkxG",
      "include_colab_link": true
    },
    "kernelspec": {
      "name": "python3",
      "display_name": "Python 3"
    },
    "language_info": {
      "name": "python"
    }
  },
  "cells": [
    {
      "cell_type": "markdown",
      "metadata": {
        "id": "view-in-github",
        "colab_type": "text"
      },
      "source": [
        "<a href=\"https://colab.research.google.com/github/prathi659/intern/blob/main/chatbot%20with%20nlp.ipynb\" target=\"_parent\"><img src=\"https://colab.research.google.com/assets/colab-badge.svg\" alt=\"Open In Colab\"/></a>"
      ]
    },
    {
      "cell_type": "code",
      "execution_count": null,
      "metadata": {
        "id": "6FV1uXjXteEr"
      },
      "outputs": [],
      "source": [
        "\n",
        "!pip install -q spacy\n",
        "import spacy\n",
        "import sys\n",
        "\n",
        "\n",
        "try:\n",
        "    nlp = spacy.load(\"en_core_web_sm\")\n",
        "except:\n",
        "    import subprocess\n",
        "    subprocess.run([sys.executable, \"-m\", \"spacy\", \"download\", \"en_core_web_sm\"])\n",
        "    nlp = spacy.load(\"en_core_web_sm\")\n",
        "\n",
        "\n",
        "intents = {\n",
        "    \"greeting\": {\n",
        "        \"examples\": [\"hello\", \"hi\", \"hey\", \"good morning\", \"good evening\"],\n",
        "        \"response\": \"Hi there! How can I assist you today?\"\n",
        "    },\n",
        "    \"goodbye\": {\n",
        "        \"examples\": [\"bye\", \"goodbye\", \"see you\", \"take care\"],\n",
        "        \"response\": \"Goodbye! Have a great day!\"\n",
        "    },\n",
        "    \"name\": {\n",
        "        \"examples\": [\"what is your name\", \"who are you\", \"identify yourself\"],\n",
        "        \"response\": \"I'm your virtual assistant powered by NLP!\"\n",
        "    },\n",
        "    \"help\": {\n",
        "        \"examples\": [\"help\", \"support\", \"i need assistance\", \"can you help me\"],\n",
        "        \"response\": \"Of course! Tell me what you need help with.\"\n",
        "    },\n",
        "    \"thanks\": {\n",
        "        \"examples\": [\"thanks\", \"thank you\", \"appreciate it\"],\n",
        "        \"response\": \"You're welcome! 😊\"\n",
        "    }\n",
        "}\n",
        "def match_intent(user_input):\n",
        "    user_doc = nlp(user_input.lower())\n",
        "    for intent, data in intents.items():\n",
        "        for example in data[\"examples\"]:\n",
        "            example_doc = nlp(example)\n",
        "            if user_doc.similarity(example_doc) > 0.75:\n",
        "                return intent\n",
        "    return None\n",
        "def run_chatbot():\n",
        "    print(\"🤖 Chatbot: Hello! Ask me anything. Type 'exit' to stop.\")\n",
        "    while True:\n",
        "        user_input = input(\"👤 You: \")\n",
        "        if user_input.lower() in [\"exit\", \"quit\"]:\n",
        "            print(\"🤖 Chatbot: Goodbye!\")\n",
        "            break\n",
        "        intent = match_intent(user_input)\n",
        "        if intent:\n",
        "            print(\"🤖 Chatbot:\", intents[intent][\"response\"])\n",
        "        else:\n",
        "            print(\"🤖 Chatbot: Sorry, I didn't understand that.\")\n",
        "run_chatbot()\n"
      ]
    }
  ]
}