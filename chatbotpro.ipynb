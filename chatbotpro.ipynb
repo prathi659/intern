{
  "nbformat": 4,
  "nbformat_minor": 0,
  "metadata": {
    "colab": {
      "provenance": [],
      "authorship_tag": "ABX9TyMkQlDrNGr0zjvJQSKCubz8",
      "include_colab_link": true
    },
    "kernelspec": {
      "name": "python3",
      "display_name": "Python 3"
    },
    "language_info": {
      "name": "python"
    }
  },
  "cells": [
    {
      "cell_type": "markdown",
      "metadata": {
        "id": "view-in-github",
        "colab_type": "text"
      },
      "source": [
        "<a href=\"https://colab.research.google.com/github/prathi659/intern/blob/main/chatbotpro.ipynb\" target=\"_parent\"><img src=\"https://colab.research.google.com/assets/colab-badge.svg\" alt=\"Open In Colab\"/></a>"
      ]
    },
    {
      "cell_type": "code",
      "execution_count": null,
      "metadata": {
        "colab": {
          "base_uri": "https://localhost:8080/"
        },
        "id": "6FV1uXjXteEr",
        "outputId": "3570ad66-8394-4461-ec69-68604df9f395"
      },
      "outputs": [
        {
          "name": "stdout",
          "output_type": "stream",
          "text": [
            "🤖 ChatPro: Hello! I’m your AI friend. Type 'exit' to leave.\n",
            "👤 Before we start, what's your name? iam Prathiksha \n",
            "🤖 Nice to meet you, iam Prathiksha ! How can I help you today?\n",
            "iam Prathiksha : can you order me a cup of coffee \n"
          ]
        },
        {
          "output_type": "stream",
          "name": "stderr",
          "text": [
            "<ipython-input-1-1942377683>:55: UserWarning: [W007] The model you're using has no word vectors loaded, so the result of the Doc.similarity method will be based on the tagger, parser and NER, which may not give useful similarity judgements. This may happen if you're using one of the small models, e.g. `en_core_web_sm`, which don't ship with word vectors and only use context-sensitive tensors. You can always add your own word vectors, or use one of the larger models instead if available.\n",
            "  similarity = user_doc.similarity(example_doc)\n"
          ]
        },
        {
          "output_type": "stream",
          "name": "stdout",
          "text": [
            "🤖 ChatPro: Sure! I'm here for you. Please tell me what's troubling you.\n",
            "iam Prathiksha : headache \n",
            "🤖 ChatPro: Hmm... I’m not sure how to respond to that. Can you rephrase it?\n",
            "iam Prathiksha : head ache \n",
            "🤖 ChatPro: Hmm... I’m not sure how to respond to that. Can you rephrase it?\n",
            "iam Prathiksha : dumb\n",
            "🤖 ChatPro: Hmm... I’m not sure how to respond to that. Can you rephrase it?\n"
          ]
        }
      ],
      "source": [
        "\n",
        "!pip install -q spacy\n",
        "import spacy\n",
        "import sys\n",
        "try:\n",
        "    nlp = spacy.load(\"en_core_web_sm\")\n",
        "except:\n",
        "    import subprocess\n",
        "    subprocess.run([sys.executable, \"-m\", \"spacy\", \"download\", \"en_core_web_sm\"])\n",
        "    nlp = spacy.load(\"en_core_web_sm\")\n",
        "intents = {\n",
        "    \"greeting\": {\n",
        "        \"examples\": [\"hello\", \"hi\", \"hey\", \"good morning\", \"good evening\", \"what's up\"],\n",
        "        \"response\": \"Hey there! 😊 I'm your assistant. What can I do for you today?\"\n",
        "    },\n",
        "    \"goodbye\": {\n",
        "        \"examples\": [\"bye\", \"goodbye\", \"see you\", \"take care\", \"talk to you later\"],\n",
        "        \"response\": \"See you later! Stay awesome! 👋\"\n",
        "    },\n",
        "    \"name\": {\n",
        "        \"examples\": [\"what is your name\", \"who are you\", \"tell me your name\"],\n",
        "        \"response\": \"I'm ChatPro — your smart assistant. Nice to meet you!\"\n",
        "    },\n",
        "    \"help\": {\n",
        "        \"examples\": [\"i need help\", \"can you assist me\", \"support\", \"i need support\"],\n",
        "        \"response\": \"Sure! I'm here for you. Please tell me what's troubling you.\"\n",
        "    },\n",
        "    \"thanks\": {\n",
        "        \"examples\": [\"thank you\", \"thanks a lot\", \"appreciate it\", \"thanks buddy\"],\n",
        "        \"response\": \"You're most welcome! Always happy to help. 🤝\"\n",
        "    },\n",
        "    \"mood\": {\n",
        "        \"examples\": [\"i am sad\", \"not feeling good\", \"i am happy\", \"i'm upset\"],\n",
        "        \"response\": \"Emotions make us human. If you want to talk, I'm here to listen. 💬\"\n",
        "    },\n",
        "    \"weather\": {\n",
        "        \"examples\": [\"what's the weather\", \"is it raining\", \"weather update\"],\n",
        "        \"response\": \"I can't access live weather data, but you can ask me anything else!\"\n",
        "    }\n",
        "}\n",
        "def match_intent(user_input):\n",
        "    user_doc = nlp(user_input.lower())\n",
        "    best_match = None\n",
        "    highest_similarity = 0.6\n",
        "    for intent, data in intents.items():\n",
        "        for example in data[\"examples\"]:\n",
        "            example_doc = nlp(example)\n",
        "            similarity = user_doc.similarity(example_doc)\n",
        "            if similarity > highest_similarity:\n",
        "                highest_similarity = similarity\n",
        "                best_match = intent\n",
        "\n",
        "    return best_match\n",
        "def run_chatbot():\n",
        "    print(\"🤖 ChatPro: Hello! I’m your AI friend. Type 'exit' to leave.\")\n",
        "    name = input(\"👤 Before we start, what's your name? \")\n",
        "    print(f\"🤖 Nice to meet you, {name}! How can I help you today?\")\n",
        "\n",
        "    while True:\n",
        "        user_input = input(f\"{name}: \")\n",
        "        if user_input.lower() in [\"exit\", \"quit\"]:\n",
        "            print(f\"🤖 ChatPro: Bye {name}, take care! 👋\")\n",
        "            break\n",
        "        intent = match_intent(user_input)\n",
        "        if intent:\n",
        "            print(\"🤖 ChatPro:\", intents[intent][\"response\"])\n",
        "        else:\n",
        "            print(\"🤖 ChatPro: Hmm... I’m not sure how to respond to that. Can you rephrase it?\")\n",
        "run_chatbot()\n"
      ]
    }
  ]
}